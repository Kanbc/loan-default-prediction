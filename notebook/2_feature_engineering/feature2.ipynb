{
 "cells": [
  {
   "cell_type": "code",
   "execution_count": 3,
   "metadata": {},
   "outputs": [],
   "source": [
    "import pandas as pd\n",
    "from keras.utils import np_utils\n",
    "from sklearn import preprocessing"
   ]
  },
  {
   "cell_type": "code",
   "execution_count": 20,
   "metadata": {},
   "outputs": [],
   "source": [
    "y_train  = pd.read_csv('../../data/raw/y_train.csv')\n",
    "y_test  = pd.read_csv('../../data/raw/y_test_index.csv')\n",
    "\n",
    "demographic = pd.read_csv('../../data/feature_vector/all/demo.csv')\n",
    "address = pd.read_csv('../../data/feature_vector/all/prov.csv')\n",
    "saving_acc = pd.read_csv('../../data/feature_vector/all/saving_acc.csv')\n",
    "cc_transaction = pd.read_csv('../../data/feature_vector/all/cc_transaction.csv')"
   ]
  },
  {
   "cell_type": "markdown",
   "metadata": {},
   "source": [
    "merge ทุกตาราง"
   ]
  },
  {
   "cell_type": "code",
   "execution_count": 21,
   "metadata": {},
   "outputs": [],
   "source": [
    "all_feature = pd.merge(y_train, demographic, how='left', on=['ip_id', 'ip_id'])\n",
    "all_feature = pd.merge(all_feature, address, how='left', on=['ip_id', 'ip_id'])\n",
    "all_feature = pd.merge(all_feature, saving_acc, how='left', on=['ip_id', 'ip_id'])\n",
    "all_feature = pd.merge(all_feature, cc_transaction, how='left', on=['ip_id', 'ip_id'])"
   ]
  },
  {
   "cell_type": "code",
   "execution_count": 22,
   "metadata": {},
   "outputs": [
    {
     "data": {
      "text/plain": [
       "(6361, 105)"
      ]
     },
     "execution_count": 22,
     "metadata": {},
     "output_type": "execute_result"
    }
   ],
   "source": [
    "all_feature.shape"
   ]
  },
  {
   "cell_type": "code",
   "execution_count": 25,
   "metadata": {},
   "outputs": [],
   "source": [
    "# del all_feature['chanel_no']\n",
    "# del all_feature['tp_no']\n",
    "# del all_feature['category_no']\n",
    "# del all_feature['card_no']"
   ]
  },
  {
   "cell_type": "code",
   "execution_count": 27,
   "metadata": {},
   "outputs": [
    {
     "data": {
      "text/plain": [
       "(6361, 101)"
      ]
     },
     "execution_count": 27,
     "metadata": {},
     "output_type": "execute_result"
    }
   ],
   "source": [
    "all_feature.shape"
   ]
  },
  {
   "cell_type": "code",
   "execution_count": 30,
   "metadata": {},
   "outputs": [],
   "source": [
    "all_feature.to_csv('../../data/feature_vector/all/merge_all.csv',index=False)"
   ]
  },
  {
   "cell_type": "markdown",
   "metadata": {},
   "source": [
    "-------------"
   ]
  },
  {
   "cell_type": "code",
   "execution_count": 31,
   "metadata": {},
   "outputs": [],
   "source": [
    "all_feature2 = pd.merge(y_test, demographic, how='left', on=['ip_id', 'ip_id'])\n",
    "all_feature2 = pd.merge(all_feature2, address, how='left', on=['ip_id', 'ip_id'])\n",
    "all_feature2 = pd.merge(all_feature2, saving_acc, how='left', on=['ip_id', 'ip_id'])\n",
    "all_feature2 = pd.merge(all_feature2, cc_transaction, how='left', on=['ip_id', 'ip_id'])"
   ]
  },
  {
   "cell_type": "code",
   "execution_count": 32,
   "metadata": {},
   "outputs": [],
   "source": [
    "# del all_feature2['chanel_no']\n",
    "# del all_feature2['tp_no']\n",
    "# del all_feature2['category_no']\n",
    "# del all_feature2['card_no']"
   ]
  },
  {
   "cell_type": "code",
   "execution_count": 33,
   "metadata": {},
   "outputs": [
    {
     "data": {
      "text/plain": [
       "(3938, 1)"
      ]
     },
     "execution_count": 33,
     "metadata": {},
     "output_type": "execute_result"
    }
   ],
   "source": [
    "y_test.shape"
   ]
  },
  {
   "cell_type": "code",
   "execution_count": 34,
   "metadata": {},
   "outputs": [
    {
     "data": {
      "text/plain": [
       "(3938, 100)"
      ]
     },
     "execution_count": 34,
     "metadata": {},
     "output_type": "execute_result"
    }
   ],
   "source": [
    "all_feature2.shape"
   ]
  },
  {
   "cell_type": "code",
   "execution_count": 35,
   "metadata": {},
   "outputs": [],
   "source": [
    "all_feature2.to_csv('../../data/feature_vector/all/merge_all2.csv',index=False)"
   ]
  },
  {
   "cell_type": "code",
   "execution_count": null,
   "metadata": {},
   "outputs": [],
   "source": []
  }
 ],
 "metadata": {
  "kernelspec": {
   "display_name": "Python 3",
   "language": "python",
   "name": "python3"
  },
  "language_info": {
   "codemirror_mode": {
    "name": "ipython",
    "version": 3
   },
   "file_extension": ".py",
   "mimetype": "text/x-python",
   "name": "python",
   "nbconvert_exporter": "python",
   "pygments_lexer": "ipython3",
   "version": "3.6.6"
  }
 },
 "nbformat": 4,
 "nbformat_minor": 2
}
