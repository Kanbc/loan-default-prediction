{
 "cells": [
  {
   "cell_type": "code",
   "execution_count": 1,
   "metadata": {},
   "outputs": [],
   "source": [
    "import pandas as pd"
   ]
  },
  {
   "cell_type": "code",
   "execution_count": 5,
   "metadata": {},
   "outputs": [],
   "source": [
    "y_train  = pd.read_csv('../../data/raw/y_train.csv')\n",
    "demographic = pd.read_csv('../../data/raw/demo.csv')\n",
    "address = pd.read_csv('../../data/raw/adr.csv')\n",
    "saving_acc = pd.read_csv('../../data/raw/sa.csv')\n",
    "cc_transaction = pd.read_csv('../../data/raw/cc_txn.csv')"
   ]
  },
  {
   "cell_type": "code",
   "execution_count": 12,
   "metadata": {},
   "outputs": [],
   "source": [
    "category = pd.read_csv('../../data/not_raw/cat.csv')"
   ]
  },
  {
   "cell_type": "markdown",
   "metadata": {},
   "source": [
    "------------------"
   ]
  },
  {
   "cell_type": "code",
   "execution_count": 7,
   "metadata": {},
   "outputs": [
    {
     "data": {
      "text/html": [
       "<div>\n",
       "<style scoped>\n",
       "    .dataframe tbody tr th:only-of-type {\n",
       "        vertical-align: middle;\n",
       "    }\n",
       "\n",
       "    .dataframe tbody tr th {\n",
       "        vertical-align: top;\n",
       "    }\n",
       "\n",
       "    .dataframe thead th {\n",
       "        text-align: right;\n",
       "    }\n",
       "</style>\n",
       "<table border=\"1\" class=\"dataframe\">\n",
       "  <thead>\n",
       "    <tr style=\"text-align: right;\">\n",
       "      <th></th>\n",
       "      <th>ip_id</th>\n",
       "      <th>label</th>\n",
       "    </tr>\n",
       "  </thead>\n",
       "  <tbody>\n",
       "    <tr>\n",
       "      <th>0</th>\n",
       "      <td>1</td>\n",
       "      <td>0.0</td>\n",
       "    </tr>\n",
       "    <tr>\n",
       "      <th>1</th>\n",
       "      <td>2</td>\n",
       "      <td>0.0</td>\n",
       "    </tr>\n",
       "    <tr>\n",
       "      <th>2</th>\n",
       "      <td>3</td>\n",
       "      <td>0.0</td>\n",
       "    </tr>\n",
       "    <tr>\n",
       "      <th>3</th>\n",
       "      <td>4</td>\n",
       "      <td>0.0</td>\n",
       "    </tr>\n",
       "    <tr>\n",
       "      <th>4</th>\n",
       "      <td>5</td>\n",
       "      <td>0.0</td>\n",
       "    </tr>\n",
       "  </tbody>\n",
       "</table>\n",
       "</div>"
      ],
      "text/plain": [
       "   ip_id  label\n",
       "0      1    0.0\n",
       "1      2    0.0\n",
       "2      3    0.0\n",
       "3      4    0.0\n",
       "4      5    0.0"
      ]
     },
     "execution_count": 7,
     "metadata": {},
     "output_type": "execute_result"
    }
   ],
   "source": [
    "y_train.head()"
   ]
  },
  {
   "cell_type": "code",
   "execution_count": 17,
   "metadata": {},
   "outputs": [
    {
     "data": {
      "text/plain": [
       "(6361, 2)"
      ]
     },
     "execution_count": 17,
     "metadata": {},
     "output_type": "execute_result"
    }
   ],
   "source": [
    "y_train.shape"
   ]
  },
  {
   "cell_type": "code",
   "execution_count": 15,
   "metadata": {},
   "outputs": [
    {
     "data": {
      "text/plain": [
       "6361"
      ]
     },
     "execution_count": 15,
     "metadata": {},
     "output_type": "execute_result"
    }
   ],
   "source": [
    "len(y_train['ip_id'].unique())"
   ]
  },
  {
   "cell_type": "markdown",
   "metadata": {},
   "source": [
    "y uniqe ดังนั้นจะใช้อันนี้เป็นแกน แล้ว merge ตารางอื่นเข้าหา"
   ]
  },
  {
   "cell_type": "markdown",
   "metadata": {},
   "source": [
    "-----------------------------"
   ]
  },
  {
   "cell_type": "code",
   "execution_count": 8,
   "metadata": {},
   "outputs": [
    {
     "data": {
      "text/html": [
       "<div>\n",
       "<style scoped>\n",
       "    .dataframe tbody tr th:only-of-type {\n",
       "        vertical-align: middle;\n",
       "    }\n",
       "\n",
       "    .dataframe tbody tr th {\n",
       "        vertical-align: top;\n",
       "    }\n",
       "\n",
       "    .dataframe thead th {\n",
       "        text-align: right;\n",
       "    }\n",
       "</style>\n",
       "<table border=\"1\" class=\"dataframe\">\n",
       "  <thead>\n",
       "    <tr style=\"text-align: right;\">\n",
       "      <th></th>\n",
       "      <th>ip_id</th>\n",
       "      <th>brth_yr</th>\n",
       "      <th>act_strt_dt</th>\n",
       "      <th>no_of_dpnd_chl</th>\n",
       "      <th>cis_income</th>\n",
       "      <th>crn_bal</th>\n",
       "      <th>gnd_cd</th>\n",
       "      <th>mar_st_cd</th>\n",
       "      <th>ctf_tp_cd</th>\n",
       "      <th>ocp_cd</th>\n",
       "    </tr>\n",
       "  </thead>\n",
       "  <tbody>\n",
       "    <tr>\n",
       "      <th>0</th>\n",
       "      <td>1</td>\n",
       "      <td>1990.0</td>\n",
       "      <td>2011-12-11</td>\n",
       "      <td>0.0</td>\n",
       "      <td>45864.0</td>\n",
       "      <td>876428.0</td>\n",
       "      <td>2.0</td>\n",
       "      <td>2.0</td>\n",
       "      <td>3.0</td>\n",
       "      <td>9</td>\n",
       "    </tr>\n",
       "    <tr>\n",
       "      <th>1</th>\n",
       "      <td>2</td>\n",
       "      <td>1986.0</td>\n",
       "      <td>2010-06-08</td>\n",
       "      <td>1.0</td>\n",
       "      <td>43355.0</td>\n",
       "      <td>540649.0</td>\n",
       "      <td>2.0</td>\n",
       "      <td>2.0</td>\n",
       "      <td>1.0</td>\n",
       "      <td>3</td>\n",
       "    </tr>\n",
       "    <tr>\n",
       "      <th>2</th>\n",
       "      <td>3</td>\n",
       "      <td>1983.0</td>\n",
       "      <td>2013-12-06</td>\n",
       "      <td>0.0</td>\n",
       "      <td>48836.0</td>\n",
       "      <td>310503.0</td>\n",
       "      <td>2.0</td>\n",
       "      <td>2.0</td>\n",
       "      <td>2.0</td>\n",
       "      <td>12</td>\n",
       "    </tr>\n",
       "    <tr>\n",
       "      <th>3</th>\n",
       "      <td>4</td>\n",
       "      <td>1984.0</td>\n",
       "      <td>2009-12-27</td>\n",
       "      <td>0.0</td>\n",
       "      <td>44397.0</td>\n",
       "      <td>34209.0</td>\n",
       "      <td>2.0</td>\n",
       "      <td>2.0</td>\n",
       "      <td>5.0</td>\n",
       "      <td>11</td>\n",
       "    </tr>\n",
       "    <tr>\n",
       "      <th>4</th>\n",
       "      <td>5</td>\n",
       "      <td>1986.0</td>\n",
       "      <td>2006-09-01</td>\n",
       "      <td>1.0</td>\n",
       "      <td>43281.0</td>\n",
       "      <td>39963.0</td>\n",
       "      <td>2.0</td>\n",
       "      <td>3.0</td>\n",
       "      <td>6.0</td>\n",
       "      <td>9</td>\n",
       "    </tr>\n",
       "  </tbody>\n",
       "</table>\n",
       "</div>"
      ],
      "text/plain": [
       "   ip_id  brth_yr act_strt_dt  no_of_dpnd_chl  cis_income   crn_bal  gnd_cd  \\\n",
       "0      1   1990.0  2011-12-11             0.0     45864.0  876428.0     2.0   \n",
       "1      2   1986.0  2010-06-08             1.0     43355.0  540649.0     2.0   \n",
       "2      3   1983.0  2013-12-06             0.0     48836.0  310503.0     2.0   \n",
       "3      4   1984.0  2009-12-27             0.0     44397.0   34209.0     2.0   \n",
       "4      5   1986.0  2006-09-01             1.0     43281.0   39963.0     2.0   \n",
       "\n",
       "   mar_st_cd  ctf_tp_cd  ocp_cd  \n",
       "0        2.0        3.0       9  \n",
       "1        2.0        1.0       3  \n",
       "2        2.0        2.0      12  \n",
       "3        2.0        5.0      11  \n",
       "4        3.0        6.0       9  "
      ]
     },
     "execution_count": 8,
     "metadata": {},
     "output_type": "execute_result"
    }
   ],
   "source": [
    "demographic.head()"
   ]
  },
  {
   "cell_type": "code",
   "execution_count": 20,
   "metadata": {},
   "outputs": [
    {
     "data": {
      "text/plain": [
       "(10299, 10)"
      ]
     },
     "execution_count": 20,
     "metadata": {},
     "output_type": "execute_result"
    }
   ],
   "source": [
    "demographic.shape"
   ]
  },
  {
   "cell_type": "code",
   "execution_count": 21,
   "metadata": {},
   "outputs": [
    {
     "data": {
      "text/plain": [
       "10299"
      ]
     },
     "execution_count": 21,
     "metadata": {},
     "output_type": "execute_result"
    }
   ],
   "source": [
    "len(demographic['ip_id'].unique())"
   ]
  },
  {
   "cell_type": "markdown",
   "metadata": {},
   "source": [
    "--------------------------------"
   ]
  },
  {
   "cell_type": "markdown",
   "metadata": {},
   "source": [
    "ที่อยู่อาศัย"
   ]
  },
  {
   "cell_type": "code",
   "execution_count": 26,
   "metadata": {},
   "outputs": [
    {
     "data": {
      "text/html": [
       "<div>\n",
       "<style scoped>\n",
       "    .dataframe tbody tr th:only-of-type {\n",
       "        vertical-align: middle;\n",
       "    }\n",
       "\n",
       "    .dataframe tbody tr th {\n",
       "        vertical-align: top;\n",
       "    }\n",
       "\n",
       "    .dataframe thead th {\n",
       "        text-align: right;\n",
       "    }\n",
       "</style>\n",
       "<table border=\"1\" class=\"dataframe\">\n",
       "  <thead>\n",
       "    <tr style=\"text-align: right;\">\n",
       "      <th></th>\n",
       "      <th>ip_id</th>\n",
       "      <th>prov</th>\n",
       "    </tr>\n",
       "  </thead>\n",
       "  <tbody>\n",
       "    <tr>\n",
       "      <th>0</th>\n",
       "      <td>2</td>\n",
       "      <td>ลำพูน</td>\n",
       "    </tr>\n",
       "    <tr>\n",
       "      <th>1</th>\n",
       "      <td>6</td>\n",
       "      <td>นครปฐม</td>\n",
       "    </tr>\n",
       "    <tr>\n",
       "      <th>2</th>\n",
       "      <td>6</td>\n",
       "      <td>นครราชสีมา</td>\n",
       "    </tr>\n",
       "    <tr>\n",
       "      <th>3</th>\n",
       "      <td>8</td>\n",
       "      <td>นครราชสีมา</td>\n",
       "    </tr>\n",
       "    <tr>\n",
       "      <th>4</th>\n",
       "      <td>12</td>\n",
       "      <td>ปทุมธานี</td>\n",
       "    </tr>\n",
       "    <tr>\n",
       "      <th>5</th>\n",
       "      <td>12</td>\n",
       "      <td>อุตรดิตถ์</td>\n",
       "    </tr>\n",
       "    <tr>\n",
       "      <th>6</th>\n",
       "      <td>14</td>\n",
       "      <td>พังงา</td>\n",
       "    </tr>\n",
       "    <tr>\n",
       "      <th>7</th>\n",
       "      <td>14</td>\n",
       "      <td>ภูเก็ต</td>\n",
       "    </tr>\n",
       "    <tr>\n",
       "      <th>8</th>\n",
       "      <td>14</td>\n",
       "      <td>มุกดาหาร</td>\n",
       "    </tr>\n",
       "    <tr>\n",
       "      <th>9</th>\n",
       "      <td>16</td>\n",
       "      <td>ปัตตานี</td>\n",
       "    </tr>\n",
       "  </tbody>\n",
       "</table>\n",
       "</div>"
      ],
      "text/plain": [
       "   ip_id                                      prov\n",
       "0      2  ลำพูน                                   \n",
       "1      6  นครปฐม                                  \n",
       "2      6  นครราชสีมา                              \n",
       "3      8  นครราชสีมา                              \n",
       "4     12  ปทุมธานี                                \n",
       "5     12  อุตรดิตถ์                               \n",
       "6     14  พังงา                                   \n",
       "7     14  ภูเก็ต                                  \n",
       "8     14  มุกดาหาร                                \n",
       "9     16  ปัตตานี                                 "
      ]
     },
     "execution_count": 26,
     "metadata": {},
     "output_type": "execute_result"
    }
   ],
   "source": [
    "address[0:10]"
   ]
  },
  {
   "cell_type": "code",
   "execution_count": 24,
   "metadata": {},
   "outputs": [
    {
     "data": {
      "text/plain": [
       "(4737, 2)"
      ]
     },
     "execution_count": 24,
     "metadata": {},
     "output_type": "execute_result"
    }
   ],
   "source": [
    "address.shape"
   ]
  },
  {
   "cell_type": "code",
   "execution_count": 25,
   "metadata": {},
   "outputs": [
    {
     "data": {
      "text/plain": [
       "3633"
      ]
     },
     "execution_count": 25,
     "metadata": {},
     "output_type": "execute_result"
    }
   ],
   "source": [
    "len(address['ip_id'].unique())"
   ]
  },
  {
   "cell_type": "markdown",
   "metadata": {},
   "source": [
    "ทำไมทั้งหมดกับ uniqe ไม่เหมือนกันวะ แสดงว่าคนนึงอยู่ได้หลายจังหวัด"
   ]
  },
  {
   "cell_type": "markdown",
   "metadata": {},
   "source": [
    "----------------------------"
   ]
  },
  {
   "cell_type": "code",
   "execution_count": 10,
   "metadata": {},
   "outputs": [
    {
     "data": {
      "text/html": [
       "<div>\n",
       "<style scoped>\n",
       "    .dataframe tbody tr th:only-of-type {\n",
       "        vertical-align: middle;\n",
       "    }\n",
       "\n",
       "    .dataframe tbody tr th {\n",
       "        vertical-align: top;\n",
       "    }\n",
       "\n",
       "    .dataframe thead th {\n",
       "        text-align: right;\n",
       "    }\n",
       "</style>\n",
       "<table border=\"1\" class=\"dataframe\">\n",
       "  <thead>\n",
       "    <tr style=\"text-align: right;\">\n",
       "      <th></th>\n",
       "      <th>ip_id</th>\n",
       "      <th>dt</th>\n",
       "      <th>channel</th>\n",
       "      <th>tp</th>\n",
       "      <th>amt</th>\n",
       "    </tr>\n",
       "  </thead>\n",
       "  <tbody>\n",
       "    <tr>\n",
       "      <th>0</th>\n",
       "      <td>1</td>\n",
       "      <td>2017-02-06</td>\n",
       "      <td>EDC</td>\n",
       "      <td>DR</td>\n",
       "      <td>1045.0</td>\n",
       "    </tr>\n",
       "    <tr>\n",
       "      <th>1</th>\n",
       "      <td>1</td>\n",
       "      <td>2017-02-28</td>\n",
       "      <td>Branch</td>\n",
       "      <td>CR</td>\n",
       "      <td>995.0</td>\n",
       "    </tr>\n",
       "    <tr>\n",
       "      <th>2</th>\n",
       "      <td>1</td>\n",
       "      <td>2017-03-15</td>\n",
       "      <td>KPlus</td>\n",
       "      <td>DR</td>\n",
       "      <td>6311.0</td>\n",
       "    </tr>\n",
       "    <tr>\n",
       "      <th>3</th>\n",
       "      <td>1</td>\n",
       "      <td>2017-03-22</td>\n",
       "      <td>KPlus</td>\n",
       "      <td>CR</td>\n",
       "      <td>884.0</td>\n",
       "    </tr>\n",
       "    <tr>\n",
       "      <th>4</th>\n",
       "      <td>1</td>\n",
       "      <td>2017-03-26</td>\n",
       "      <td>Branch</td>\n",
       "      <td>DR</td>\n",
       "      <td>4890.0</td>\n",
       "    </tr>\n",
       "  </tbody>\n",
       "</table>\n",
       "</div>"
      ],
      "text/plain": [
       "   ip_id          dt channel  tp     amt\n",
       "0      1  2017-02-06     EDC  DR  1045.0\n",
       "1      1  2017-02-28  Branch  CR   995.0\n",
       "2      1  2017-03-15   KPlus  DR  6311.0\n",
       "3      1  2017-03-22   KPlus  CR   884.0\n",
       "4      1  2017-03-26  Branch  DR  4890.0"
      ]
     },
     "execution_count": 10,
     "metadata": {},
     "output_type": "execute_result"
    }
   ],
   "source": [
    "saving_acc.head()"
   ]
  },
  {
   "cell_type": "code",
   "execution_count": 32,
   "metadata": {},
   "outputs": [
    {
     "data": {
      "text/plain": [
       "(478658, 5)"
      ]
     },
     "execution_count": 32,
     "metadata": {},
     "output_type": "execute_result"
    }
   ],
   "source": [
    "saving_acc.shape"
   ]
  },
  {
   "cell_type": "code",
   "execution_count": 33,
   "metadata": {},
   "outputs": [
    {
     "data": {
      "text/plain": [
       "9963"
      ]
     },
     "execution_count": 33,
     "metadata": {},
     "output_type": "execute_result"
    }
   ],
   "source": [
    "len(saving_acc['ip_id'].unique())"
   ]
  },
  {
   "cell_type": "markdown",
   "metadata": {},
   "source": [
    "ให้มาเกินคนที่เรามีข้อมูล บางส่วนเป็นของคนที่เราไม่มีข้อมูลว่าแม่งโกงป่าว"
   ]
  },
  {
   "cell_type": "markdown",
   "metadata": {},
   "source": [
    "-------------------"
   ]
  },
  {
   "cell_type": "code",
   "execution_count": 11,
   "metadata": {},
   "outputs": [
    {
     "data": {
      "text/html": [
       "<div>\n",
       "<style scoped>\n",
       "    .dataframe tbody tr th:only-of-type {\n",
       "        vertical-align: middle;\n",
       "    }\n",
       "\n",
       "    .dataframe tbody tr th {\n",
       "        vertical-align: top;\n",
       "    }\n",
       "\n",
       "    .dataframe thead th {\n",
       "        text-align: right;\n",
       "    }\n",
       "</style>\n",
       "<table border=\"1\" class=\"dataframe\">\n",
       "  <thead>\n",
       "    <tr style=\"text-align: right;\">\n",
       "      <th></th>\n",
       "      <th>ip_id</th>\n",
       "      <th>dt</th>\n",
       "      <th>category</th>\n",
       "      <th>card</th>\n",
       "      <th>txn_amt</th>\n",
       "    </tr>\n",
       "  </thead>\n",
       "  <tbody>\n",
       "    <tr>\n",
       "      <th>0</th>\n",
       "      <td>1</td>\n",
       "      <td>2017-02-02</td>\n",
       "      <td>cat2</td>\n",
       "      <td>card1</td>\n",
       "      <td>13150.0</td>\n",
       "    </tr>\n",
       "    <tr>\n",
       "      <th>1</th>\n",
       "      <td>1</td>\n",
       "      <td>2017-02-06</td>\n",
       "      <td>cat15</td>\n",
       "      <td>card2</td>\n",
       "      <td>9786.0</td>\n",
       "    </tr>\n",
       "    <tr>\n",
       "      <th>2</th>\n",
       "      <td>1</td>\n",
       "      <td>2017-02-12</td>\n",
       "      <td>cat2</td>\n",
       "      <td>card1</td>\n",
       "      <td>11165.0</td>\n",
       "    </tr>\n",
       "    <tr>\n",
       "      <th>3</th>\n",
       "      <td>1</td>\n",
       "      <td>2017-02-15</td>\n",
       "      <td>cat15</td>\n",
       "      <td>card1</td>\n",
       "      <td>8948.0</td>\n",
       "    </tr>\n",
       "    <tr>\n",
       "      <th>4</th>\n",
       "      <td>1</td>\n",
       "      <td>2017-02-18</td>\n",
       "      <td>cat3</td>\n",
       "      <td>card2</td>\n",
       "      <td>4609.0</td>\n",
       "    </tr>\n",
       "  </tbody>\n",
       "</table>\n",
       "</div>"
      ],
      "text/plain": [
       "   ip_id          dt category   card  txn_amt\n",
       "0      1  2017-02-02     cat2  card1  13150.0\n",
       "1      1  2017-02-06    cat15  card2   9786.0\n",
       "2      1  2017-02-12     cat2  card1  11165.0\n",
       "3      1  2017-02-15    cat15  card1   8948.0\n",
       "4      1  2017-02-18     cat3  card2   4609.0"
      ]
     },
     "execution_count": 11,
     "metadata": {},
     "output_type": "execute_result"
    }
   ],
   "source": [
    "cc_transaction.head()"
   ]
  },
  {
   "cell_type": "code",
   "execution_count": 34,
   "metadata": {},
   "outputs": [
    {
     "data": {
      "text/plain": [
       "(627894, 5)"
      ]
     },
     "execution_count": 34,
     "metadata": {},
     "output_type": "execute_result"
    }
   ],
   "source": [
    "cc_transaction.shape"
   ]
  },
  {
   "cell_type": "code",
   "execution_count": 35,
   "metadata": {},
   "outputs": [
    {
     "data": {
      "text/plain": [
       "7488"
      ]
     },
     "execution_count": 35,
     "metadata": {},
     "output_type": "execute_result"
    }
   ],
   "source": [
    "len(cc_transaction['ip_id'].unique())"
   ]
  },
  {
   "cell_type": "markdown",
   "metadata": {},
   "source": [
    "เช่นกันกับการฝากเงิน"
   ]
  },
  {
   "cell_type": "markdown",
   "metadata": {},
   "source": [
    "----------------"
   ]
  },
  {
   "cell_type": "code",
   "execution_count": 13,
   "metadata": {},
   "outputs": [
    {
     "data": {
      "text/html": [
       "<div>\n",
       "<style scoped>\n",
       "    .dataframe tbody tr th:only-of-type {\n",
       "        vertical-align: middle;\n",
       "    }\n",
       "\n",
       "    .dataframe tbody tr th {\n",
       "        vertical-align: top;\n",
       "    }\n",
       "\n",
       "    .dataframe thead th {\n",
       "        text-align: right;\n",
       "    }\n",
       "</style>\n",
       "<table border=\"1\" class=\"dataframe\">\n",
       "  <thead>\n",
       "    <tr style=\"text-align: right;\">\n",
       "      <th></th>\n",
       "      <th>no</th>\n",
       "      <th>main_category</th>\n",
       "    </tr>\n",
       "  </thead>\n",
       "  <tbody>\n",
       "    <tr>\n",
       "      <th>0</th>\n",
       "      <td>cat1</td>\n",
       "      <td>Fashion and Apparel</td>\n",
       "    </tr>\n",
       "    <tr>\n",
       "      <th>1</th>\n",
       "      <td>cat9</td>\n",
       "      <td>Sports</td>\n",
       "    </tr>\n",
       "    <tr>\n",
       "      <th>2</th>\n",
       "      <td>cat2</td>\n",
       "      <td>Health and beauty</td>\n",
       "    </tr>\n",
       "    <tr>\n",
       "      <th>3</th>\n",
       "      <td>cat10</td>\n",
       "      <td>Children</td>\n",
       "    </tr>\n",
       "    <tr>\n",
       "      <th>4</th>\n",
       "      <td>cat3</td>\n",
       "      <td>Food and Beverage</td>\n",
       "    </tr>\n",
       "    <tr>\n",
       "      <th>5</th>\n",
       "      <td>cat11</td>\n",
       "      <td>Services</td>\n",
       "    </tr>\n",
       "    <tr>\n",
       "      <th>6</th>\n",
       "      <td>cat4</td>\n",
       "      <td>Appliance and Electronics</td>\n",
       "    </tr>\n",
       "    <tr>\n",
       "      <th>7</th>\n",
       "      <td>cat12</td>\n",
       "      <td>Education</td>\n",
       "    </tr>\n",
       "    <tr>\n",
       "      <th>8</th>\n",
       "      <td>cat5</td>\n",
       "      <td>Office supplies books and gift shop</td>\n",
       "    </tr>\n",
       "    <tr>\n",
       "      <th>9</th>\n",
       "      <td>cat13</td>\n",
       "      <td>Pet</td>\n",
       "    </tr>\n",
       "    <tr>\n",
       "      <th>10</th>\n",
       "      <td>cat6</td>\n",
       "      <td>Automotive shops and Vehicles</td>\n",
       "    </tr>\n",
       "    <tr>\n",
       "      <th>11</th>\n",
       "      <td>cat14</td>\n",
       "      <td>Travel</td>\n",
       "    </tr>\n",
       "    <tr>\n",
       "      <th>12</th>\n",
       "      <td>cat7</td>\n",
       "      <td>Entertainment</td>\n",
       "    </tr>\n",
       "    <tr>\n",
       "      <th>13</th>\n",
       "      <td>cat15</td>\n",
       "      <td>Accommodation</td>\n",
       "    </tr>\n",
       "    <tr>\n",
       "      <th>14</th>\n",
       "      <td>cat8</td>\n",
       "      <td>Home and Garden</td>\n",
       "    </tr>\n",
       "    <tr>\n",
       "      <th>15</th>\n",
       "      <td>cat16</td>\n",
       "      <td>Others</td>\n",
       "    </tr>\n",
       "  </tbody>\n",
       "</table>\n",
       "</div>"
      ],
      "text/plain": [
       "       no                        main_category\n",
       "0    cat1                  Fashion and Apparel\n",
       "1    cat9                               Sports\n",
       "2    cat2                    Health and beauty\n",
       "3   cat10                             Children\n",
       "4    cat3                    Food and Beverage\n",
       "5   cat11                             Services\n",
       "6    cat4            Appliance and Electronics\n",
       "7   cat12                            Education\n",
       "8    cat5  Office supplies books and gift shop\n",
       "9   cat13                                  Pet\n",
       "10   cat6        Automotive shops and Vehicles\n",
       "11  cat14                               Travel\n",
       "12   cat7                        Entertainment\n",
       "13  cat15                        Accommodation\n",
       "14   cat8                      Home and Garden\n",
       "15  cat16                               Others"
      ]
     },
     "execution_count": 13,
     "metadata": {},
     "output_type": "execute_result"
    }
   ],
   "source": [
    "category"
   ]
  },
  {
   "cell_type": "markdown",
   "metadata": {},
   "source": [
    "---------------------------"
   ]
  },
  {
   "cell_type": "code",
   "execution_count": 18,
   "metadata": {},
   "outputs": [],
   "source": [
    "result1 = pd.merge(y_train, demographic, how='left', on=['ip_id', 'ip_id'])"
   ]
  },
  {
   "cell_type": "code",
   "execution_count": 22,
   "metadata": {},
   "outputs": [
    {
     "data": {
      "text/plain": [
       "(6361, 11)"
      ]
     },
     "execution_count": 22,
     "metadata": {},
     "output_type": "execute_result"
    }
   ],
   "source": [
    "result1.shape"
   ]
  },
  {
   "cell_type": "code",
   "execution_count": 23,
   "metadata": {},
   "outputs": [
    {
     "data": {
      "text/html": [
       "<div>\n",
       "<style scoped>\n",
       "    .dataframe tbody tr th:only-of-type {\n",
       "        vertical-align: middle;\n",
       "    }\n",
       "\n",
       "    .dataframe tbody tr th {\n",
       "        vertical-align: top;\n",
       "    }\n",
       "\n",
       "    .dataframe thead th {\n",
       "        text-align: right;\n",
       "    }\n",
       "</style>\n",
       "<table border=\"1\" class=\"dataframe\">\n",
       "  <thead>\n",
       "    <tr style=\"text-align: right;\">\n",
       "      <th></th>\n",
       "      <th>ip_id</th>\n",
       "      <th>label</th>\n",
       "      <th>brth_yr</th>\n",
       "      <th>act_strt_dt</th>\n",
       "      <th>no_of_dpnd_chl</th>\n",
       "      <th>cis_income</th>\n",
       "      <th>crn_bal</th>\n",
       "      <th>gnd_cd</th>\n",
       "      <th>mar_st_cd</th>\n",
       "      <th>ctf_tp_cd</th>\n",
       "      <th>ocp_cd</th>\n",
       "    </tr>\n",
       "  </thead>\n",
       "  <tbody>\n",
       "    <tr>\n",
       "      <th>0</th>\n",
       "      <td>1</td>\n",
       "      <td>0.0</td>\n",
       "      <td>1990.0</td>\n",
       "      <td>2011-12-11</td>\n",
       "      <td>0.0</td>\n",
       "      <td>45864.0</td>\n",
       "      <td>876428.0</td>\n",
       "      <td>2.0</td>\n",
       "      <td>2.0</td>\n",
       "      <td>3.0</td>\n",
       "      <td>9</td>\n",
       "    </tr>\n",
       "    <tr>\n",
       "      <th>1</th>\n",
       "      <td>2</td>\n",
       "      <td>0.0</td>\n",
       "      <td>1986.0</td>\n",
       "      <td>2010-06-08</td>\n",
       "      <td>1.0</td>\n",
       "      <td>43355.0</td>\n",
       "      <td>540649.0</td>\n",
       "      <td>2.0</td>\n",
       "      <td>2.0</td>\n",
       "      <td>1.0</td>\n",
       "      <td>3</td>\n",
       "    </tr>\n",
       "    <tr>\n",
       "      <th>2</th>\n",
       "      <td>3</td>\n",
       "      <td>0.0</td>\n",
       "      <td>1983.0</td>\n",
       "      <td>2013-12-06</td>\n",
       "      <td>0.0</td>\n",
       "      <td>48836.0</td>\n",
       "      <td>310503.0</td>\n",
       "      <td>2.0</td>\n",
       "      <td>2.0</td>\n",
       "      <td>2.0</td>\n",
       "      <td>12</td>\n",
       "    </tr>\n",
       "    <tr>\n",
       "      <th>3</th>\n",
       "      <td>4</td>\n",
       "      <td>0.0</td>\n",
       "      <td>1984.0</td>\n",
       "      <td>2009-12-27</td>\n",
       "      <td>0.0</td>\n",
       "      <td>44397.0</td>\n",
       "      <td>34209.0</td>\n",
       "      <td>2.0</td>\n",
       "      <td>2.0</td>\n",
       "      <td>5.0</td>\n",
       "      <td>11</td>\n",
       "    </tr>\n",
       "    <tr>\n",
       "      <th>4</th>\n",
       "      <td>5</td>\n",
       "      <td>0.0</td>\n",
       "      <td>1986.0</td>\n",
       "      <td>2006-09-01</td>\n",
       "      <td>1.0</td>\n",
       "      <td>43281.0</td>\n",
       "      <td>39963.0</td>\n",
       "      <td>2.0</td>\n",
       "      <td>3.0</td>\n",
       "      <td>6.0</td>\n",
       "      <td>9</td>\n",
       "    </tr>\n",
       "  </tbody>\n",
       "</table>\n",
       "</div>"
      ],
      "text/plain": [
       "   ip_id  label  brth_yr act_strt_dt  no_of_dpnd_chl  cis_income   crn_bal  \\\n",
       "0      1    0.0   1990.0  2011-12-11             0.0     45864.0  876428.0   \n",
       "1      2    0.0   1986.0  2010-06-08             1.0     43355.0  540649.0   \n",
       "2      3    0.0   1983.0  2013-12-06             0.0     48836.0  310503.0   \n",
       "3      4    0.0   1984.0  2009-12-27             0.0     44397.0   34209.0   \n",
       "4      5    0.0   1986.0  2006-09-01             1.0     43281.0   39963.0   \n",
       "\n",
       "   gnd_cd  mar_st_cd  ctf_tp_cd  ocp_cd  \n",
       "0     2.0        2.0        3.0       9  \n",
       "1     2.0        2.0        1.0       3  \n",
       "2     2.0        2.0        2.0      12  \n",
       "3     2.0        2.0        5.0      11  \n",
       "4     2.0        3.0        6.0       9  "
      ]
     },
     "execution_count": 23,
     "metadata": {},
     "output_type": "execute_result"
    }
   ],
   "source": [
    "result1.head()"
   ]
  },
  {
   "cell_type": "markdown",
   "metadata": {},
   "source": [
    "--------------------"
   ]
  },
  {
   "cell_type": "code",
   "execution_count": 27,
   "metadata": {},
   "outputs": [],
   "source": [
    "result2 = pd.merge(result1, address, how='left', on=['ip_id', 'ip_id'])"
   ]
  },
  {
   "cell_type": "code",
   "execution_count": 28,
   "metadata": {},
   "outputs": [
    {
     "data": {
      "text/plain": [
       "(7465, 12)"
      ]
     },
     "execution_count": 28,
     "metadata": {},
     "output_type": "execute_result"
    }
   ],
   "source": [
    "result2.shape"
   ]
  },
  {
   "cell_type": "markdown",
   "metadata": {},
   "source": [
    "จะเห็นว่าแถวเพิ่มขึ้นแสดงว่ามันแตกเป็นหลายแถวที่มีจังหวัดต่างกัน"
   ]
  },
  {
   "cell_type": "code",
   "execution_count": 29,
   "metadata": {},
   "outputs": [
    {
     "data": {
      "text/html": [
       "<div>\n",
       "<style scoped>\n",
       "    .dataframe tbody tr th:only-of-type {\n",
       "        vertical-align: middle;\n",
       "    }\n",
       "\n",
       "    .dataframe tbody tr th {\n",
       "        vertical-align: top;\n",
       "    }\n",
       "\n",
       "    .dataframe thead th {\n",
       "        text-align: right;\n",
       "    }\n",
       "</style>\n",
       "<table border=\"1\" class=\"dataframe\">\n",
       "  <thead>\n",
       "    <tr style=\"text-align: right;\">\n",
       "      <th></th>\n",
       "      <th>ip_id</th>\n",
       "      <th>label</th>\n",
       "      <th>brth_yr</th>\n",
       "      <th>act_strt_dt</th>\n",
       "      <th>no_of_dpnd_chl</th>\n",
       "      <th>cis_income</th>\n",
       "      <th>crn_bal</th>\n",
       "      <th>gnd_cd</th>\n",
       "      <th>mar_st_cd</th>\n",
       "      <th>ctf_tp_cd</th>\n",
       "      <th>ocp_cd</th>\n",
       "      <th>prov</th>\n",
       "    </tr>\n",
       "  </thead>\n",
       "  <tbody>\n",
       "    <tr>\n",
       "      <th>0</th>\n",
       "      <td>1</td>\n",
       "      <td>0.0</td>\n",
       "      <td>1990.0</td>\n",
       "      <td>2011-12-11</td>\n",
       "      <td>0.0</td>\n",
       "      <td>45864.0</td>\n",
       "      <td>876428.0</td>\n",
       "      <td>2.0</td>\n",
       "      <td>2.0</td>\n",
       "      <td>3.0</td>\n",
       "      <td>9</td>\n",
       "      <td>NaN</td>\n",
       "    </tr>\n",
       "    <tr>\n",
       "      <th>1</th>\n",
       "      <td>2</td>\n",
       "      <td>0.0</td>\n",
       "      <td>1986.0</td>\n",
       "      <td>2010-06-08</td>\n",
       "      <td>1.0</td>\n",
       "      <td>43355.0</td>\n",
       "      <td>540649.0</td>\n",
       "      <td>2.0</td>\n",
       "      <td>2.0</td>\n",
       "      <td>1.0</td>\n",
       "      <td>3</td>\n",
       "      <td>ลำพูน</td>\n",
       "    </tr>\n",
       "    <tr>\n",
       "      <th>2</th>\n",
       "      <td>3</td>\n",
       "      <td>0.0</td>\n",
       "      <td>1983.0</td>\n",
       "      <td>2013-12-06</td>\n",
       "      <td>0.0</td>\n",
       "      <td>48836.0</td>\n",
       "      <td>310503.0</td>\n",
       "      <td>2.0</td>\n",
       "      <td>2.0</td>\n",
       "      <td>2.0</td>\n",
       "      <td>12</td>\n",
       "      <td>NaN</td>\n",
       "    </tr>\n",
       "    <tr>\n",
       "      <th>3</th>\n",
       "      <td>4</td>\n",
       "      <td>0.0</td>\n",
       "      <td>1984.0</td>\n",
       "      <td>2009-12-27</td>\n",
       "      <td>0.0</td>\n",
       "      <td>44397.0</td>\n",
       "      <td>34209.0</td>\n",
       "      <td>2.0</td>\n",
       "      <td>2.0</td>\n",
       "      <td>5.0</td>\n",
       "      <td>11</td>\n",
       "      <td>NaN</td>\n",
       "    </tr>\n",
       "    <tr>\n",
       "      <th>4</th>\n",
       "      <td>5</td>\n",
       "      <td>0.0</td>\n",
       "      <td>1986.0</td>\n",
       "      <td>2006-09-01</td>\n",
       "      <td>1.0</td>\n",
       "      <td>43281.0</td>\n",
       "      <td>39963.0</td>\n",
       "      <td>2.0</td>\n",
       "      <td>3.0</td>\n",
       "      <td>6.0</td>\n",
       "      <td>9</td>\n",
       "      <td>NaN</td>\n",
       "    </tr>\n",
       "    <tr>\n",
       "      <th>5</th>\n",
       "      <td>6</td>\n",
       "      <td>0.0</td>\n",
       "      <td>1987.0</td>\n",
       "      <td>2005-06-17</td>\n",
       "      <td>0.0</td>\n",
       "      <td>49867.0</td>\n",
       "      <td>590634.0</td>\n",
       "      <td>2.0</td>\n",
       "      <td>4.0</td>\n",
       "      <td>2.0</td>\n",
       "      <td>12</td>\n",
       "      <td>นครปฐม</td>\n",
       "    </tr>\n",
       "    <tr>\n",
       "      <th>6</th>\n",
       "      <td>6</td>\n",
       "      <td>0.0</td>\n",
       "      <td>1987.0</td>\n",
       "      <td>2005-06-17</td>\n",
       "      <td>0.0</td>\n",
       "      <td>49867.0</td>\n",
       "      <td>590634.0</td>\n",
       "      <td>2.0</td>\n",
       "      <td>4.0</td>\n",
       "      <td>2.0</td>\n",
       "      <td>12</td>\n",
       "      <td>นครราชสีมา</td>\n",
       "    </tr>\n",
       "    <tr>\n",
       "      <th>7</th>\n",
       "      <td>7</td>\n",
       "      <td>0.0</td>\n",
       "      <td>1984.0</td>\n",
       "      <td>2014-07-30</td>\n",
       "      <td>1.0</td>\n",
       "      <td>42205.0</td>\n",
       "      <td>500.0</td>\n",
       "      <td>2.0</td>\n",
       "      <td>3.0</td>\n",
       "      <td>2.0</td>\n",
       "      <td>6</td>\n",
       "      <td>NaN</td>\n",
       "    </tr>\n",
       "    <tr>\n",
       "      <th>8</th>\n",
       "      <td>8</td>\n",
       "      <td>0.0</td>\n",
       "      <td>1976.0</td>\n",
       "      <td>2014-06-27</td>\n",
       "      <td>0.0</td>\n",
       "      <td>42422.0</td>\n",
       "      <td>845055.0</td>\n",
       "      <td>2.0</td>\n",
       "      <td>2.0</td>\n",
       "      <td>6.0</td>\n",
       "      <td>2</td>\n",
       "      <td>นครราชสีมา</td>\n",
       "    </tr>\n",
       "    <tr>\n",
       "      <th>9</th>\n",
       "      <td>9</td>\n",
       "      <td>0.0</td>\n",
       "      <td>1983.0</td>\n",
       "      <td>2006-04-21</td>\n",
       "      <td>1.0</td>\n",
       "      <td>38264.0</td>\n",
       "      <td>1717875.0</td>\n",
       "      <td>1.0</td>\n",
       "      <td>2.0</td>\n",
       "      <td>3.0</td>\n",
       "      <td>2</td>\n",
       "      <td>NaN</td>\n",
       "    </tr>\n",
       "  </tbody>\n",
       "</table>\n",
       "</div>"
      ],
      "text/plain": [
       "   ip_id  label  brth_yr act_strt_dt  no_of_dpnd_chl  cis_income    crn_bal  \\\n",
       "0      1    0.0   1990.0  2011-12-11             0.0     45864.0   876428.0   \n",
       "1      2    0.0   1986.0  2010-06-08             1.0     43355.0   540649.0   \n",
       "2      3    0.0   1983.0  2013-12-06             0.0     48836.0   310503.0   \n",
       "3      4    0.0   1984.0  2009-12-27             0.0     44397.0    34209.0   \n",
       "4      5    0.0   1986.0  2006-09-01             1.0     43281.0    39963.0   \n",
       "5      6    0.0   1987.0  2005-06-17             0.0     49867.0   590634.0   \n",
       "6      6    0.0   1987.0  2005-06-17             0.0     49867.0   590634.0   \n",
       "7      7    0.0   1984.0  2014-07-30             1.0     42205.0      500.0   \n",
       "8      8    0.0   1976.0  2014-06-27             0.0     42422.0   845055.0   \n",
       "9      9    0.0   1983.0  2006-04-21             1.0     38264.0  1717875.0   \n",
       "\n",
       "   gnd_cd  mar_st_cd  ctf_tp_cd  ocp_cd  \\\n",
       "0     2.0        2.0        3.0       9   \n",
       "1     2.0        2.0        1.0       3   \n",
       "2     2.0        2.0        2.0      12   \n",
       "3     2.0        2.0        5.0      11   \n",
       "4     2.0        3.0        6.0       9   \n",
       "5     2.0        4.0        2.0      12   \n",
       "6     2.0        4.0        2.0      12   \n",
       "7     2.0        3.0        2.0       6   \n",
       "8     2.0        2.0        6.0       2   \n",
       "9     1.0        2.0        3.0       2   \n",
       "\n",
       "                                       prov  \n",
       "0                                       NaN  \n",
       "1  ลำพูน                                     \n",
       "2                                       NaN  \n",
       "3                                       NaN  \n",
       "4                                       NaN  \n",
       "5  นครปฐม                                    \n",
       "6  นครราชสีมา                                \n",
       "7                                       NaN  \n",
       "8  นครราชสีมา                                \n",
       "9                                       NaN  "
      ]
     },
     "execution_count": 29,
     "metadata": {},
     "output_type": "execute_result"
    }
   ],
   "source": [
    "result2[0:10]"
   ]
  },
  {
   "cell_type": "code",
   "execution_count": 45,
   "metadata": {},
   "outputs": [],
   "source": [
    "result2.to_csv('../../data/not_raw/demo_with_address.csv', index=False)"
   ]
  },
  {
   "cell_type": "markdown",
   "metadata": {},
   "source": [
    "------------"
   ]
  },
  {
   "cell_type": "code",
   "execution_count": 30,
   "metadata": {},
   "outputs": [],
   "source": [
    "result3 = pd.merge(result1, saving_acc, how='left', on=['ip_id', 'ip_id'])"
   ]
  },
  {
   "cell_type": "code",
   "execution_count": 31,
   "metadata": {},
   "outputs": [
    {
     "data": {
      "text/plain": [
       "(238896, 15)"
      ]
     },
     "execution_count": 31,
     "metadata": {},
     "output_type": "execute_result"
    }
   ],
   "source": [
    "result3.shape"
   ]
  },
  {
   "cell_type": "code",
   "execution_count": 36,
   "metadata": {},
   "outputs": [
    {
     "data": {
      "text/html": [
       "<div>\n",
       "<style scoped>\n",
       "    .dataframe tbody tr th:only-of-type {\n",
       "        vertical-align: middle;\n",
       "    }\n",
       "\n",
       "    .dataframe tbody tr th {\n",
       "        vertical-align: top;\n",
       "    }\n",
       "\n",
       "    .dataframe thead th {\n",
       "        text-align: right;\n",
       "    }\n",
       "</style>\n",
       "<table border=\"1\" class=\"dataframe\">\n",
       "  <thead>\n",
       "    <tr style=\"text-align: right;\">\n",
       "      <th></th>\n",
       "      <th>ip_id</th>\n",
       "      <th>label</th>\n",
       "      <th>brth_yr</th>\n",
       "      <th>act_strt_dt</th>\n",
       "      <th>no_of_dpnd_chl</th>\n",
       "      <th>cis_income</th>\n",
       "      <th>crn_bal</th>\n",
       "      <th>gnd_cd</th>\n",
       "      <th>mar_st_cd</th>\n",
       "      <th>ctf_tp_cd</th>\n",
       "      <th>ocp_cd</th>\n",
       "      <th>dt</th>\n",
       "      <th>channel</th>\n",
       "      <th>tp</th>\n",
       "      <th>amt</th>\n",
       "    </tr>\n",
       "  </thead>\n",
       "  <tbody>\n",
       "    <tr>\n",
       "      <th>0</th>\n",
       "      <td>1</td>\n",
       "      <td>0.0</td>\n",
       "      <td>1990.0</td>\n",
       "      <td>2011-12-11</td>\n",
       "      <td>0.0</td>\n",
       "      <td>45864.0</td>\n",
       "      <td>876428.0</td>\n",
       "      <td>2.0</td>\n",
       "      <td>2.0</td>\n",
       "      <td>3.0</td>\n",
       "      <td>9</td>\n",
       "      <td>2017-02-06</td>\n",
       "      <td>EDC</td>\n",
       "      <td>DR</td>\n",
       "      <td>1045.0</td>\n",
       "    </tr>\n",
       "    <tr>\n",
       "      <th>1</th>\n",
       "      <td>1</td>\n",
       "      <td>0.0</td>\n",
       "      <td>1990.0</td>\n",
       "      <td>2011-12-11</td>\n",
       "      <td>0.0</td>\n",
       "      <td>45864.0</td>\n",
       "      <td>876428.0</td>\n",
       "      <td>2.0</td>\n",
       "      <td>2.0</td>\n",
       "      <td>3.0</td>\n",
       "      <td>9</td>\n",
       "      <td>2017-02-28</td>\n",
       "      <td>Branch</td>\n",
       "      <td>CR</td>\n",
       "      <td>995.0</td>\n",
       "    </tr>\n",
       "    <tr>\n",
       "      <th>2</th>\n",
       "      <td>1</td>\n",
       "      <td>0.0</td>\n",
       "      <td>1990.0</td>\n",
       "      <td>2011-12-11</td>\n",
       "      <td>0.0</td>\n",
       "      <td>45864.0</td>\n",
       "      <td>876428.0</td>\n",
       "      <td>2.0</td>\n",
       "      <td>2.0</td>\n",
       "      <td>3.0</td>\n",
       "      <td>9</td>\n",
       "      <td>2017-03-15</td>\n",
       "      <td>KPlus</td>\n",
       "      <td>DR</td>\n",
       "      <td>6311.0</td>\n",
       "    </tr>\n",
       "    <tr>\n",
       "      <th>3</th>\n",
       "      <td>1</td>\n",
       "      <td>0.0</td>\n",
       "      <td>1990.0</td>\n",
       "      <td>2011-12-11</td>\n",
       "      <td>0.0</td>\n",
       "      <td>45864.0</td>\n",
       "      <td>876428.0</td>\n",
       "      <td>2.0</td>\n",
       "      <td>2.0</td>\n",
       "      <td>3.0</td>\n",
       "      <td>9</td>\n",
       "      <td>2017-03-22</td>\n",
       "      <td>KPlus</td>\n",
       "      <td>CR</td>\n",
       "      <td>884.0</td>\n",
       "    </tr>\n",
       "    <tr>\n",
       "      <th>4</th>\n",
       "      <td>1</td>\n",
       "      <td>0.0</td>\n",
       "      <td>1990.0</td>\n",
       "      <td>2011-12-11</td>\n",
       "      <td>0.0</td>\n",
       "      <td>45864.0</td>\n",
       "      <td>876428.0</td>\n",
       "      <td>2.0</td>\n",
       "      <td>2.0</td>\n",
       "      <td>3.0</td>\n",
       "      <td>9</td>\n",
       "      <td>2017-03-26</td>\n",
       "      <td>Branch</td>\n",
       "      <td>DR</td>\n",
       "      <td>4890.0</td>\n",
       "    </tr>\n",
       "    <tr>\n",
       "      <th>5</th>\n",
       "      <td>1</td>\n",
       "      <td>0.0</td>\n",
       "      <td>1990.0</td>\n",
       "      <td>2011-12-11</td>\n",
       "      <td>0.0</td>\n",
       "      <td>45864.0</td>\n",
       "      <td>876428.0</td>\n",
       "      <td>2.0</td>\n",
       "      <td>2.0</td>\n",
       "      <td>3.0</td>\n",
       "      <td>9</td>\n",
       "      <td>2017-03-29</td>\n",
       "      <td>ATM</td>\n",
       "      <td>CR</td>\n",
       "      <td>5955.0</td>\n",
       "    </tr>\n",
       "    <tr>\n",
       "      <th>6</th>\n",
       "      <td>1</td>\n",
       "      <td>0.0</td>\n",
       "      <td>1990.0</td>\n",
       "      <td>2011-12-11</td>\n",
       "      <td>0.0</td>\n",
       "      <td>45864.0</td>\n",
       "      <td>876428.0</td>\n",
       "      <td>2.0</td>\n",
       "      <td>2.0</td>\n",
       "      <td>3.0</td>\n",
       "      <td>9</td>\n",
       "      <td>2017-03-30</td>\n",
       "      <td>CDM</td>\n",
       "      <td>CR</td>\n",
       "      <td>6879.0</td>\n",
       "    </tr>\n",
       "    <tr>\n",
       "      <th>7</th>\n",
       "      <td>1</td>\n",
       "      <td>0.0</td>\n",
       "      <td>1990.0</td>\n",
       "      <td>2011-12-11</td>\n",
       "      <td>0.0</td>\n",
       "      <td>45864.0</td>\n",
       "      <td>876428.0</td>\n",
       "      <td>2.0</td>\n",
       "      <td>2.0</td>\n",
       "      <td>3.0</td>\n",
       "      <td>9</td>\n",
       "      <td>2017-04-02</td>\n",
       "      <td>CorporateConnect</td>\n",
       "      <td>CR</td>\n",
       "      <td>3082.0</td>\n",
       "    </tr>\n",
       "    <tr>\n",
       "      <th>8</th>\n",
       "      <td>1</td>\n",
       "      <td>0.0</td>\n",
       "      <td>1990.0</td>\n",
       "      <td>2011-12-11</td>\n",
       "      <td>0.0</td>\n",
       "      <td>45864.0</td>\n",
       "      <td>876428.0</td>\n",
       "      <td>2.0</td>\n",
       "      <td>2.0</td>\n",
       "      <td>3.0</td>\n",
       "      <td>9</td>\n",
       "      <td>2017-04-10</td>\n",
       "      <td>ATM</td>\n",
       "      <td>DR</td>\n",
       "      <td>735.0</td>\n",
       "    </tr>\n",
       "    <tr>\n",
       "      <th>9</th>\n",
       "      <td>1</td>\n",
       "      <td>0.0</td>\n",
       "      <td>1990.0</td>\n",
       "      <td>2011-12-11</td>\n",
       "      <td>0.0</td>\n",
       "      <td>45864.0</td>\n",
       "      <td>876428.0</td>\n",
       "      <td>2.0</td>\n",
       "      <td>2.0</td>\n",
       "      <td>3.0</td>\n",
       "      <td>9</td>\n",
       "      <td>2017-04-20</td>\n",
       "      <td>ATM</td>\n",
       "      <td>DR</td>\n",
       "      <td>1278.0</td>\n",
       "    </tr>\n",
       "  </tbody>\n",
       "</table>\n",
       "</div>"
      ],
      "text/plain": [
       "   ip_id  label  brth_yr act_strt_dt  no_of_dpnd_chl  cis_income   crn_bal  \\\n",
       "0      1    0.0   1990.0  2011-12-11             0.0     45864.0  876428.0   \n",
       "1      1    0.0   1990.0  2011-12-11             0.0     45864.0  876428.0   \n",
       "2      1    0.0   1990.0  2011-12-11             0.0     45864.0  876428.0   \n",
       "3      1    0.0   1990.0  2011-12-11             0.0     45864.0  876428.0   \n",
       "4      1    0.0   1990.0  2011-12-11             0.0     45864.0  876428.0   \n",
       "5      1    0.0   1990.0  2011-12-11             0.0     45864.0  876428.0   \n",
       "6      1    0.0   1990.0  2011-12-11             0.0     45864.0  876428.0   \n",
       "7      1    0.0   1990.0  2011-12-11             0.0     45864.0  876428.0   \n",
       "8      1    0.0   1990.0  2011-12-11             0.0     45864.0  876428.0   \n",
       "9      1    0.0   1990.0  2011-12-11             0.0     45864.0  876428.0   \n",
       "\n",
       "   gnd_cd  mar_st_cd  ctf_tp_cd  ocp_cd          dt           channel  tp  \\\n",
       "0     2.0        2.0        3.0       9  2017-02-06               EDC  DR   \n",
       "1     2.0        2.0        3.0       9  2017-02-28            Branch  CR   \n",
       "2     2.0        2.0        3.0       9  2017-03-15             KPlus  DR   \n",
       "3     2.0        2.0        3.0       9  2017-03-22             KPlus  CR   \n",
       "4     2.0        2.0        3.0       9  2017-03-26            Branch  DR   \n",
       "5     2.0        2.0        3.0       9  2017-03-29               ATM  CR   \n",
       "6     2.0        2.0        3.0       9  2017-03-30               CDM  CR   \n",
       "7     2.0        2.0        3.0       9  2017-04-02  CorporateConnect  CR   \n",
       "8     2.0        2.0        3.0       9  2017-04-10               ATM  DR   \n",
       "9     2.0        2.0        3.0       9  2017-04-20               ATM  DR   \n",
       "\n",
       "      amt  \n",
       "0  1045.0  \n",
       "1   995.0  \n",
       "2  6311.0  \n",
       "3   884.0  \n",
       "4  4890.0  \n",
       "5  5955.0  \n",
       "6  6879.0  \n",
       "7  3082.0  \n",
       "8   735.0  \n",
       "9  1278.0  "
      ]
     },
     "execution_count": 36,
     "metadata": {},
     "output_type": "execute_result"
    }
   ],
   "source": [
    "result3[0:10]"
   ]
  },
  {
   "cell_type": "code",
   "execution_count": 40,
   "metadata": {},
   "outputs": [
    {
     "data": {
      "text/plain": [
       "6361"
      ]
     },
     "execution_count": 40,
     "metadata": {},
     "output_type": "execute_result"
    }
   ],
   "source": [
    "len(result3['ip_id'].unique())"
   ]
  },
  {
   "cell_type": "code",
   "execution_count": 46,
   "metadata": {},
   "outputs": [],
   "source": [
    "result3.to_csv('../../data/not_raw/demo_with_saving_acc.csv', index=False)"
   ]
  },
  {
   "cell_type": "markdown",
   "metadata": {},
   "source": [
    "--------------------------------------------------"
   ]
  },
  {
   "cell_type": "code",
   "execution_count": 37,
   "metadata": {},
   "outputs": [],
   "source": [
    "result4 = pd.merge(result1, cc_transaction, how='left', on=['ip_id', 'ip_id'])"
   ]
  },
  {
   "cell_type": "code",
   "execution_count": 38,
   "metadata": {},
   "outputs": [
    {
     "data": {
      "text/plain": [
       "(608588, 15)"
      ]
     },
     "execution_count": 38,
     "metadata": {},
     "output_type": "execute_result"
    }
   ],
   "source": [
    "result4.shape"
   ]
  },
  {
   "cell_type": "code",
   "execution_count": 39,
   "metadata": {},
   "outputs": [
    {
     "data": {
      "text/html": [
       "<div>\n",
       "<style scoped>\n",
       "    .dataframe tbody tr th:only-of-type {\n",
       "        vertical-align: middle;\n",
       "    }\n",
       "\n",
       "    .dataframe tbody tr th {\n",
       "        vertical-align: top;\n",
       "    }\n",
       "\n",
       "    .dataframe thead th {\n",
       "        text-align: right;\n",
       "    }\n",
       "</style>\n",
       "<table border=\"1\" class=\"dataframe\">\n",
       "  <thead>\n",
       "    <tr style=\"text-align: right;\">\n",
       "      <th></th>\n",
       "      <th>ip_id</th>\n",
       "      <th>label</th>\n",
       "      <th>brth_yr</th>\n",
       "      <th>act_strt_dt</th>\n",
       "      <th>no_of_dpnd_chl</th>\n",
       "      <th>cis_income</th>\n",
       "      <th>crn_bal</th>\n",
       "      <th>gnd_cd</th>\n",
       "      <th>mar_st_cd</th>\n",
       "      <th>ctf_tp_cd</th>\n",
       "      <th>ocp_cd</th>\n",
       "      <th>dt</th>\n",
       "      <th>category</th>\n",
       "      <th>card</th>\n",
       "      <th>txn_amt</th>\n",
       "    </tr>\n",
       "  </thead>\n",
       "  <tbody>\n",
       "    <tr>\n",
       "      <th>0</th>\n",
       "      <td>1</td>\n",
       "      <td>0.0</td>\n",
       "      <td>1990.0</td>\n",
       "      <td>2011-12-11</td>\n",
       "      <td>0.0</td>\n",
       "      <td>45864.0</td>\n",
       "      <td>876428.0</td>\n",
       "      <td>2.0</td>\n",
       "      <td>2.0</td>\n",
       "      <td>3.0</td>\n",
       "      <td>9</td>\n",
       "      <td>2017-02-02</td>\n",
       "      <td>cat2</td>\n",
       "      <td>card1</td>\n",
       "      <td>13150.0</td>\n",
       "    </tr>\n",
       "    <tr>\n",
       "      <th>1</th>\n",
       "      <td>1</td>\n",
       "      <td>0.0</td>\n",
       "      <td>1990.0</td>\n",
       "      <td>2011-12-11</td>\n",
       "      <td>0.0</td>\n",
       "      <td>45864.0</td>\n",
       "      <td>876428.0</td>\n",
       "      <td>2.0</td>\n",
       "      <td>2.0</td>\n",
       "      <td>3.0</td>\n",
       "      <td>9</td>\n",
       "      <td>2017-02-06</td>\n",
       "      <td>cat15</td>\n",
       "      <td>card2</td>\n",
       "      <td>9786.0</td>\n",
       "    </tr>\n",
       "    <tr>\n",
       "      <th>2</th>\n",
       "      <td>1</td>\n",
       "      <td>0.0</td>\n",
       "      <td>1990.0</td>\n",
       "      <td>2011-12-11</td>\n",
       "      <td>0.0</td>\n",
       "      <td>45864.0</td>\n",
       "      <td>876428.0</td>\n",
       "      <td>2.0</td>\n",
       "      <td>2.0</td>\n",
       "      <td>3.0</td>\n",
       "      <td>9</td>\n",
       "      <td>2017-02-12</td>\n",
       "      <td>cat2</td>\n",
       "      <td>card1</td>\n",
       "      <td>11165.0</td>\n",
       "    </tr>\n",
       "    <tr>\n",
       "      <th>3</th>\n",
       "      <td>1</td>\n",
       "      <td>0.0</td>\n",
       "      <td>1990.0</td>\n",
       "      <td>2011-12-11</td>\n",
       "      <td>0.0</td>\n",
       "      <td>45864.0</td>\n",
       "      <td>876428.0</td>\n",
       "      <td>2.0</td>\n",
       "      <td>2.0</td>\n",
       "      <td>3.0</td>\n",
       "      <td>9</td>\n",
       "      <td>2017-02-15</td>\n",
       "      <td>cat15</td>\n",
       "      <td>card1</td>\n",
       "      <td>8948.0</td>\n",
       "    </tr>\n",
       "    <tr>\n",
       "      <th>4</th>\n",
       "      <td>1</td>\n",
       "      <td>0.0</td>\n",
       "      <td>1990.0</td>\n",
       "      <td>2011-12-11</td>\n",
       "      <td>0.0</td>\n",
       "      <td>45864.0</td>\n",
       "      <td>876428.0</td>\n",
       "      <td>2.0</td>\n",
       "      <td>2.0</td>\n",
       "      <td>3.0</td>\n",
       "      <td>9</td>\n",
       "      <td>2017-02-18</td>\n",
       "      <td>cat3</td>\n",
       "      <td>card2</td>\n",
       "      <td>4609.0</td>\n",
       "    </tr>\n",
       "    <tr>\n",
       "      <th>5</th>\n",
       "      <td>1</td>\n",
       "      <td>0.0</td>\n",
       "      <td>1990.0</td>\n",
       "      <td>2011-12-11</td>\n",
       "      <td>0.0</td>\n",
       "      <td>45864.0</td>\n",
       "      <td>876428.0</td>\n",
       "      <td>2.0</td>\n",
       "      <td>2.0</td>\n",
       "      <td>3.0</td>\n",
       "      <td>9</td>\n",
       "      <td>2017-02-19</td>\n",
       "      <td>cat8</td>\n",
       "      <td>card3</td>\n",
       "      <td>3924.0</td>\n",
       "    </tr>\n",
       "    <tr>\n",
       "      <th>6</th>\n",
       "      <td>1</td>\n",
       "      <td>0.0</td>\n",
       "      <td>1990.0</td>\n",
       "      <td>2011-12-11</td>\n",
       "      <td>0.0</td>\n",
       "      <td>45864.0</td>\n",
       "      <td>876428.0</td>\n",
       "      <td>2.0</td>\n",
       "      <td>2.0</td>\n",
       "      <td>3.0</td>\n",
       "      <td>9</td>\n",
       "      <td>2017-02-21</td>\n",
       "      <td>cat7</td>\n",
       "      <td>card2</td>\n",
       "      <td>2874.0</td>\n",
       "    </tr>\n",
       "    <tr>\n",
       "      <th>7</th>\n",
       "      <td>1</td>\n",
       "      <td>0.0</td>\n",
       "      <td>1990.0</td>\n",
       "      <td>2011-12-11</td>\n",
       "      <td>0.0</td>\n",
       "      <td>45864.0</td>\n",
       "      <td>876428.0</td>\n",
       "      <td>2.0</td>\n",
       "      <td>2.0</td>\n",
       "      <td>3.0</td>\n",
       "      <td>9</td>\n",
       "      <td>2017-02-24</td>\n",
       "      <td>cat14</td>\n",
       "      <td>card2</td>\n",
       "      <td>9589.0</td>\n",
       "    </tr>\n",
       "    <tr>\n",
       "      <th>8</th>\n",
       "      <td>1</td>\n",
       "      <td>0.0</td>\n",
       "      <td>1990.0</td>\n",
       "      <td>2011-12-11</td>\n",
       "      <td>0.0</td>\n",
       "      <td>45864.0</td>\n",
       "      <td>876428.0</td>\n",
       "      <td>2.0</td>\n",
       "      <td>2.0</td>\n",
       "      <td>3.0</td>\n",
       "      <td>9</td>\n",
       "      <td>2017-02-24</td>\n",
       "      <td>cat15</td>\n",
       "      <td>card2</td>\n",
       "      <td>6025.0</td>\n",
       "    </tr>\n",
       "    <tr>\n",
       "      <th>9</th>\n",
       "      <td>1</td>\n",
       "      <td>0.0</td>\n",
       "      <td>1990.0</td>\n",
       "      <td>2011-12-11</td>\n",
       "      <td>0.0</td>\n",
       "      <td>45864.0</td>\n",
       "      <td>876428.0</td>\n",
       "      <td>2.0</td>\n",
       "      <td>2.0</td>\n",
       "      <td>3.0</td>\n",
       "      <td>9</td>\n",
       "      <td>2017-02-26</td>\n",
       "      <td>cat11</td>\n",
       "      <td>card3</td>\n",
       "      <td>494.0</td>\n",
       "    </tr>\n",
       "  </tbody>\n",
       "</table>\n",
       "</div>"
      ],
      "text/plain": [
       "   ip_id  label  brth_yr act_strt_dt  no_of_dpnd_chl  cis_income   crn_bal  \\\n",
       "0      1    0.0   1990.0  2011-12-11             0.0     45864.0  876428.0   \n",
       "1      1    0.0   1990.0  2011-12-11             0.0     45864.0  876428.0   \n",
       "2      1    0.0   1990.0  2011-12-11             0.0     45864.0  876428.0   \n",
       "3      1    0.0   1990.0  2011-12-11             0.0     45864.0  876428.0   \n",
       "4      1    0.0   1990.0  2011-12-11             0.0     45864.0  876428.0   \n",
       "5      1    0.0   1990.0  2011-12-11             0.0     45864.0  876428.0   \n",
       "6      1    0.0   1990.0  2011-12-11             0.0     45864.0  876428.0   \n",
       "7      1    0.0   1990.0  2011-12-11             0.0     45864.0  876428.0   \n",
       "8      1    0.0   1990.0  2011-12-11             0.0     45864.0  876428.0   \n",
       "9      1    0.0   1990.0  2011-12-11             0.0     45864.0  876428.0   \n",
       "\n",
       "   gnd_cd  mar_st_cd  ctf_tp_cd  ocp_cd          dt category   card  txn_amt  \n",
       "0     2.0        2.0        3.0       9  2017-02-02     cat2  card1  13150.0  \n",
       "1     2.0        2.0        3.0       9  2017-02-06    cat15  card2   9786.0  \n",
       "2     2.0        2.0        3.0       9  2017-02-12     cat2  card1  11165.0  \n",
       "3     2.0        2.0        3.0       9  2017-02-15    cat15  card1   8948.0  \n",
       "4     2.0        2.0        3.0       9  2017-02-18     cat3  card2   4609.0  \n",
       "5     2.0        2.0        3.0       9  2017-02-19     cat8  card3   3924.0  \n",
       "6     2.0        2.0        3.0       9  2017-02-21     cat7  card2   2874.0  \n",
       "7     2.0        2.0        3.0       9  2017-02-24    cat14  card2   9589.0  \n",
       "8     2.0        2.0        3.0       9  2017-02-24    cat15  card2   6025.0  \n",
       "9     2.0        2.0        3.0       9  2017-02-26    cat11  card3    494.0  "
      ]
     },
     "execution_count": 39,
     "metadata": {},
     "output_type": "execute_result"
    }
   ],
   "source": [
    "result4[0:10]"
   ]
  },
  {
   "cell_type": "code",
   "execution_count": 41,
   "metadata": {},
   "outputs": [
    {
     "data": {
      "text/plain": [
       "6361"
      ]
     },
     "execution_count": 41,
     "metadata": {},
     "output_type": "execute_result"
    }
   ],
   "source": [
    "len(result4['ip_id'].unique())"
   ]
  },
  {
   "cell_type": "code",
   "execution_count": null,
   "metadata": {},
   "outputs": [],
   "source": [
    "result4.to_csv('../../data/not_raw/demo_with_cc_transaction.csv', index=False)"
   ]
  },
  {
   "cell_type": "code",
   "execution_count": null,
   "metadata": {},
   "outputs": [],
   "source": []
  }
 ],
 "metadata": {
  "kernelspec": {
   "display_name": "Python 3",
   "language": "python",
   "name": "python3"
  },
  "language_info": {
   "codemirror_mode": {
    "name": "ipython",
    "version": 3
   },
   "file_extension": ".py",
   "mimetype": "text/x-python",
   "name": "python",
   "nbconvert_exporter": "python",
   "pygments_lexer": "ipython3",
   "version": "3.6.6"
  }
 },
 "nbformat": 4,
 "nbformat_minor": 2
}
